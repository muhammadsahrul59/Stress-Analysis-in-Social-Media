{
 "cells": [
  {
   "cell_type": "code",
   "execution_count": 11,
   "metadata": {},
   "outputs": [],
   "source": [
    "#import library\n",
    "import requests\n",
    "import pandas as pd\n",
    "import tensorflow as tf\n",
    "import json\n",
    "import base64"
   ]
  },
  {
   "cell_type": "code",
   "execution_count": 12,
   "metadata": {},
   "outputs": [],
   "source": [
    "#load dataset yang akan digunakan untuk test\n",
    "data = pd.read_csv('Data\\stress_analysis.csv')"
   ]
  },
  {
   "cell_type": "code",
   "execution_count": 13,
   "metadata": {},
   "outputs": [
    {
     "data": {
      "text/html": [
       "<div>\n",
       "<style scoped>\n",
       "    .dataframe tbody tr th:only-of-type {\n",
       "        vertical-align: middle;\n",
       "    }\n",
       "\n",
       "    .dataframe tbody tr th {\n",
       "        vertical-align: top;\n",
       "    }\n",
       "\n",
       "    .dataframe thead th {\n",
       "        text-align: right;\n",
       "    }\n",
       "</style>\n",
       "<table border=\"1\" class=\"dataframe\">\n",
       "  <thead>\n",
       "    <tr style=\"text-align: right;\">\n",
       "      <th></th>\n",
       "      <th>text</th>\n",
       "      <th>label</th>\n",
       "    </tr>\n",
       "  </thead>\n",
       "  <tbody>\n",
       "    <tr>\n",
       "      <th>0</th>\n",
       "      <td>He said he had not felt that way before, sugge...</td>\n",
       "      <td>1</td>\n",
       "    </tr>\n",
       "    <tr>\n",
       "      <th>1</th>\n",
       "      <td>Hey there r/assistance, Not sure if this is th...</td>\n",
       "      <td>0</td>\n",
       "    </tr>\n",
       "    <tr>\n",
       "      <th>2</th>\n",
       "      <td>My mom then hit me with the newspaper and it s...</td>\n",
       "      <td>1</td>\n",
       "    </tr>\n",
       "    <tr>\n",
       "      <th>3</th>\n",
       "      <td>until i met my new boyfriend, he is amazing, h...</td>\n",
       "      <td>1</td>\n",
       "    </tr>\n",
       "    <tr>\n",
       "      <th>4</th>\n",
       "      <td>October is Domestic Violence Awareness Month a...</td>\n",
       "      <td>1</td>\n",
       "    </tr>\n",
       "  </tbody>\n",
       "</table>\n",
       "</div>"
      ],
      "text/plain": [
       "                                                text  label\n",
       "0  He said he had not felt that way before, sugge...      1\n",
       "1  Hey there r/assistance, Not sure if this is th...      0\n",
       "2  My mom then hit me with the newspaper and it s...      1\n",
       "3  until i met my new boyfriend, he is amazing, h...      1\n",
       "4  October is Domestic Violence Awareness Month a...      1"
      ]
     },
     "execution_count": 13,
     "metadata": {},
     "output_type": "execute_result"
    }
   ],
   "source": [
    "data.head(5)"
   ]
  },
  {
   "cell_type": "code",
   "execution_count": 14,
   "metadata": {},
   "outputs": [
    {
     "data": {
      "text/plain": [
       "0       He said he had not felt that way before, sugge...\n",
       "1       Hey there r/assistance, Not sure if this is th...\n",
       "2       My mom then hit me with the newspaper and it s...\n",
       "3       until i met my new boyfriend, he is amazing, h...\n",
       "4       October is Domestic Violence Awareness Month a...\n",
       "                              ...                        \n",
       "2833    * Her, a week ago: Precious, how are you? (I i...\n",
       "2834    I don't have the ability to cope with it anymo...\n",
       "2835    In case this is the first time you're reading ...\n",
       "2836    Do you find this normal? They have a good rela...\n",
       "2837    I was talking to my mom this morning and she s...\n",
       "Name: text, Length: 2838, dtype: object"
      ]
     },
     "execution_count": 14,
     "metadata": {},
     "output_type": "execute_result"
    }
   ],
   "source": [
    "data['text']"
   ]
  },
  {
   "cell_type": "code",
   "execution_count": 15,
   "metadata": {},
   "outputs": [
    {
     "data": {
      "text/plain": [
       "\"Hey there r/assistance, Not sure if this is the right place to post this.. but here goes =) I'm currently a student intern at Sandia National Labs and working on a survey to help improve our marketing outreach efforts at the many schools we recruit at around the country. We're looking for current undergrad/grad STEM students so if you're a STEM student or know STEM students, I would greatly appreciate if you can help take or pass along this short survey. As a thank you, everyone who helps take the survey will be entered in to a drawing for chance to win one of three $50 Amazon gcs.\""
      ]
     },
     "execution_count": 15,
     "metadata": {},
     "output_type": "execute_result"
    }
   ],
   "source": [
    "text_test = data['text'][1]\n",
    "\n",
    "text_test"
   ]
  },
  {
   "cell_type": "markdown",
   "metadata": {},
   "source": [
    "Mengambil data dari text ke 4 dan menginisialisasikan ke dalam text_test untuk proses test"
   ]
  },
  {
   "cell_type": "code",
   "execution_count": 17,
   "metadata": {},
   "outputs": [
    {
     "name": "stdout",
     "output_type": "stream",
     "text": [
      "Tidak Stress\n"
     ]
    }
   ],
   "source": [
    "def prepare_json(text):\n",
    "    feature_spec = {\n",
    "        \"text\": tf.train.Feature(bytes_list=tf.train.BytesList(value=[bytes(text, \"utf-8\")])),\n",
    "    }\n",
    "    \n",
    "    example = tf.train.Example(\n",
    "        features=tf.train.Features(feature=feature_spec)\n",
    "    ).SerializeToString()\n",
    "    \n",
    "    result = [\n",
    "        {\n",
    "            \"examples\": {\n",
    "                \"b64\": base64.b64encode(example).decode()\n",
    "            }\n",
    "        }\n",
    "    ]\n",
    "    \n",
    "    return json.dumps({\n",
    "        \"signature_name\": \"serving_default\",\n",
    "        \"instances\": result\n",
    "    })\n",
    "\n",
    "json_data = prepare_json(text_test)\n",
    "    \n",
    "endpoint = \"http://localhost:8080/v1/models/stress-socmed-detection-model:predict\"\n",
    "response = requests.post(endpoint, data=json_data)\n",
    "\n",
    "prediction = response.json().get(\"predictions\")\n",
    "if prediction:\n",
    "    prediction_value = prediction[0][0]\n",
    "    result = \"Stress\" if prediction_value > 0.6 else \"Tidak Stress\"\n",
    "else:\n",
    "    result = \"Error: No predictions found in response.\"\n",
    "\n",
    "print(result)"
   ]
  },
  {
   "cell_type": "markdown",
   "metadata": {},
   "source": [
    "`prepare_json()` untuk mempersiapkan data _input_ dalam _json string_ yang akan digunakan untuk prediksi\n",
    "\n",
    "Melakukan prediksi dari `text_test` yang dideploy pada `api endpoint`, apabila prediksi lebih besar dari 0.6 maka akan menghasilkan prediksi dari text `Stress`, apabila dibawah 0.6 maka `Tidak Stress`"
   ]
  }
 ],
 "metadata": {
  "kernelspec": {
   "display_name": "mlops-tfx",
   "language": "python",
   "name": "python3"
  },
  "language_info": {
   "codemirror_mode": {
    "name": "ipython",
    "version": 3
   },
   "file_extension": ".py",
   "mimetype": "text/x-python",
   "name": "python",
   "nbconvert_exporter": "python",
   "pygments_lexer": "ipython3",
   "version": "3.11.7"
  }
 },
 "nbformat": 4,
 "nbformat_minor": 2
}
